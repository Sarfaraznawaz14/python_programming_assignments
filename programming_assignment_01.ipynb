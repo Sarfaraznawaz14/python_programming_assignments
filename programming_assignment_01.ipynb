{
 "cells": [
  {
   "cell_type": "markdown",
   "id": "8989e7a6",
   "metadata": {},
   "source": [
    "# 1.\tWrite a Python program to print \"Hello Python\"?"
   ]
  },
  {
   "cell_type": "code",
   "execution_count": 1,
   "id": "b82f071b",
   "metadata": {},
   "outputs": [
    {
     "name": "stdout",
     "output_type": "stream",
     "text": [
      "Hello Python\n"
     ]
    }
   ],
   "source": [
    "print('Hello Python')"
   ]
  },
  {
   "cell_type": "markdown",
   "id": "c146cc0f",
   "metadata": {},
   "source": [
    "# 2.\tWrite a Python program to do arithmetical operations addition and division.?"
   ]
  },
  {
   "cell_type": "code",
   "execution_count": 11,
   "id": "9d91ac24",
   "metadata": {},
   "outputs": [],
   "source": [
    "def arith_ops():\n",
    "    \n",
    "    try:\n",
    "        a = int(input('enter an integer value of a: '))\n",
    "        b = int(input('enter an integer value for b: '))\n",
    "        print('the entered values are integers', a+b, a/b)\n",
    "    except Exception as e:\n",
    "        print('the entered value wasnt integer:', e)\n",
    "        arith_ops()\n",
    "\n",
    "\n"
   ]
  },
  {
   "cell_type": "code",
   "execution_count": 12,
   "id": "cadf8cc3",
   "metadata": {},
   "outputs": [
    {
     "name": "stdout",
     "output_type": "stream",
     "text": [
      "enter an integer value of a: sdggs\n",
      "the entered value wasnt integer: invalid literal for int() with base 10: 'sdggs'\n",
      "enter an integer value of a: fgs\n",
      "the entered value wasnt integer: invalid literal for int() with base 10: 'fgs'\n",
      "enter an integer value of a: 34\n",
      "enter an integer value for b: 23\n",
      "the entered values are integers 57 1.4782608695652173\n"
     ]
    }
   ],
   "source": [
    "arith_ops()"
   ]
  },
  {
   "cell_type": "markdown",
   "id": "63e4d742",
   "metadata": {},
   "source": [
    "# 3.\tWrite a Python program to find the area of a triangle?"
   ]
  },
  {
   "cell_type": "code",
   "execution_count": 16,
   "id": "94df3e0e",
   "metadata": {},
   "outputs": [
    {
     "name": "stdout",
     "output_type": "stream",
     "text": [
      "enter breadth of triangle 5\n",
      "enter height of triangle 4\n",
      "the area of triangle is  10.0\n"
     ]
    }
   ],
   "source": [
    "l = float(input(\"enter breadth of triangle \"))\n",
    "h = float(input(\"enter height of triangle \"))\n",
    "area_of_traingle = 0.5*l*h\n",
    "print('the area of triangle is ', area_of_traingle)\n",
    "            "
   ]
  },
  {
   "cell_type": "markdown",
   "id": "683be419",
   "metadata": {},
   "source": [
    "# 4.\tWrite a Python program to swap two variables?"
   ]
  },
  {
   "cell_type": "code",
   "execution_count": 20,
   "id": "92c0163d",
   "metadata": {},
   "outputs": [
    {
     "name": "stdout",
     "output_type": "stream",
     "text": [
      "enter a value for a 5\n",
      "enter a value for b 4\n",
      "thus the values of a and b respectively are  4 5\n"
     ]
    }
   ],
   "source": [
    "a = int(input('enter a value for a '))\n",
    "b = int(input('enter a value for b '))\n",
    "a,b = b,a\n",
    "print(\"thus the values of a and b respectively are \",a,b)"
   ]
  },
  {
   "cell_type": "markdown",
   "id": "2e2340b1",
   "metadata": {},
   "source": [
    "# 5.\tWrite a Python program to generate a random number?"
   ]
  },
  {
   "cell_type": "code",
   "execution_count": 25,
   "id": "d0ff6b59",
   "metadata": {},
   "outputs": [
    {
     "name": "stdout",
     "output_type": "stream",
     "text": [
      "enter a number to print a random number within the range 34\n",
      "random number btw the range is  29\n"
     ]
    }
   ],
   "source": [
    "range_number = int(input('enter a number to print a random number within the range '))\n",
    "for i in range(0, range_number):\n",
    "    i = i + 5\n",
    "    random_no = range_number - i\n",
    "    print('random number btw the range is ',random_no)\n",
    "    break"
   ]
  },
  {
   "cell_type": "code",
   "execution_count": 27,
   "id": "f311950d",
   "metadata": {},
   "outputs": [],
   "source": [
    "import random"
   ]
  },
  {
   "cell_type": "code",
   "execution_count": 28,
   "id": "4b39481e",
   "metadata": {},
   "outputs": [
    {
     "data": {
      "text/plain": [
       "7"
      ]
     },
     "execution_count": 28,
     "metadata": {},
     "output_type": "execute_result"
    }
   ],
   "source": [
    "l = [1,2,3,44,56,7,87]\n",
    "random.choice(l)"
   ]
  },
  {
   "cell_type": "code",
   "execution_count": 30,
   "id": "25d18121",
   "metadata": {},
   "outputs": [
    {
     "data": {
      "text/plain": [
       "'a'"
      ]
     },
     "execution_count": 30,
     "metadata": {},
     "output_type": "execute_result"
    }
   ],
   "source": [
    "s = 'sarfaraz'\n",
    "random.choice(s)"
   ]
  },
  {
   "cell_type": "code",
   "execution_count": null,
   "id": "9b959e9c",
   "metadata": {},
   "outputs": [],
   "source": []
  }
 ],
 "metadata": {
  "kernelspec": {
   "display_name": "Python 3",
   "language": "python",
   "name": "python3"
  },
  "language_info": {
   "codemirror_mode": {
    "name": "ipython",
    "version": 3
   },
   "file_extension": ".py",
   "mimetype": "text/x-python",
   "name": "python",
   "nbconvert_exporter": "python",
   "pygments_lexer": "ipython3",
   "version": "3.8.8"
  }
 },
 "nbformat": 4,
 "nbformat_minor": 5
}
