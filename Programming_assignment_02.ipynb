{
 "cells": [
  {
   "cell_type": "markdown",
   "id": "31134c27",
   "metadata": {},
   "source": [
    "# 1.\tWrite a Python program to convert kilometers to miles?"
   ]
  },
  {
   "cell_type": "code",
   "execution_count": 2,
   "id": "f241f309",
   "metadata": {},
   "outputs": [
    {
     "name": "stdout",
     "output_type": "stream",
     "text": [
      "enter speed in kms gdfg\n",
      "invalid literal for int() with base 10: 'gdfg'\n",
      "enter speed in kms gsdf\n",
      "invalid literal for int() with base 10: 'gsdf'\n",
      "enter speed in kms gfsfg\n",
      "invalid literal for int() with base 10: 'gfsfg'\n",
      "enter speed in kms 45\n",
      "27.967681789931635\n"
     ]
    }
   ],
   "source": [
    "def Km_to_miles():\n",
    "    \n",
    "    try:\n",
    "        km = int(input(\"enter speed in kms \"))\n",
    "        #converting km to miles\n",
    "        speed_in_miles = km/1.609\n",
    "        print(speed_in_miles)\n",
    "    except Exception as e:\n",
    "        print(e)\n",
    "        Km_to_miles()\n",
    "\n",
    "Km_to_miles()\n",
    "\n",
    "\n",
    "       "
   ]
  },
  {
   "cell_type": "markdown",
   "id": "e26042de",
   "metadata": {},
   "source": [
    "# 2.\tWrite a Python program to convert Celsius to Fahrenheit?"
   ]
  },
  {
   "cell_type": "code",
   "execution_count": 3,
   "id": "db0957a2",
   "metadata": {},
   "outputs": [
    {
     "name": "stdout",
     "output_type": "stream",
     "text": [
      "enter speed in kms dsf\n",
      "invalid literal for int() with base 10: 'dsf'\n",
      "enter speed in kms fds\n",
      "invalid literal for int() with base 10: 'fds'\n",
      "enter speed in kms fsd\n",
      "invalid literal for int() with base 10: 'fsd'\n",
      "enter speed in kms 27\n",
      "80.6\n"
     ]
    }
   ],
   "source": [
    "def c_to_f():\n",
    "    \n",
    "    try:\n",
    "        celcius = int(input(\"enter speed in kms \"))\n",
    "        #converting celcius to fahrenheit\n",
    "        fahrenheit = (celcius*9/5)+32\n",
    "        print(fahrenheit)\n",
    "    except Exception as e:\n",
    "        print(e)\n",
    "        c_to_f()\n",
    "\n",
    "c_to_f()\n"
   ]
  },
  {
   "cell_type": "markdown",
   "id": "4873f618",
   "metadata": {},
   "source": [
    "# 3.\tWrite a Python program to display calendar?"
   ]
  },
  {
   "cell_type": "code",
   "execution_count": 9,
   "id": "8ba41932",
   "metadata": {},
   "outputs": [
    {
     "name": "stdout",
     "output_type": "stream",
     "text": [
      "enter month 5\n",
      "      May 1996\n",
      "Mo Tu We Th Fr Sa Su\n",
      "       1  2  3  4  5\n",
      " 6  7  8  9 10 11 12\n",
      "13 14 15 16 17 18 19\n",
      "20 21 22 23 24 25 26\n",
      "27 28 29 30 31\n",
      "\n"
     ]
    }
   ],
   "source": [
    "import calendar\n",
    "yy= 1996\n",
    "mm = int(input(\"enter month \"))\n",
    "\n",
    "print(calendar.month(yy,mm))\n",
    "\n",
    "    "
   ]
  },
  {
   "cell_type": "markdown",
   "id": "fbc523c0",
   "metadata": {},
   "source": [
    "# 4.\tWrite a Python program to solve quadratic equation?"
   ]
  },
  {
   "cell_type": "code",
   "execution_count": 4,
   "id": "9c82066e",
   "metadata": {},
   "outputs": [
    {
     "name": "stdout",
     "output_type": "stream",
     "text": [
      "enter value of a greater than 0 0\n",
      "enter value of b 7\n",
      "enter value of c 8\n",
      "please enter valid input for a\n",
      "enter value of a greater than 0 0\n",
      "enter value of b 8\n",
      "enter value of c 6\n",
      "please enter valid input for a\n",
      "enter value of a greater than 0 4\n",
      "enter value of b 5\n",
      "enter value of c 6\n",
      "(-10+16.852299546352718j)\n",
      "(-10-16.852299546352718j)\n"
     ]
    }
   ],
   "source": [
    "import cmath\n",
    "def quad_equation():\n",
    "    a = int(input(\"enter value of a greater than 0 \"))\n",
    "    b = int(input(\"enter value of b \"))\n",
    "    c = int(input(\"enter value of c \"))\n",
    "    if a == 0:\n",
    "        print('please enter valid input for a')\n",
    "        quad_equation()\n",
    "\n",
    "    else:\n",
    "        quad = b**2 - 4*a*c\n",
    "        print((-b+cmath.sqrt(quad))/2*a)\n",
    "        print((-b-cmath.sqrt(quad))/2*a)\n",
    "    \n",
    "quad_equation()\n",
    "    \n"
   ]
  },
  {
   "cell_type": "markdown",
   "id": "1452f21a",
   "metadata": {},
   "source": [
    "# 5.\tWrite a Python program to swap two variables without temp variable?"
   ]
  },
  {
   "cell_type": "code",
   "execution_count": 5,
   "id": "057ac7cf",
   "metadata": {},
   "outputs": [
    {
     "name": "stdout",
     "output_type": "stream",
     "text": [
      "hello!\n",
      "sarfaraz\n",
      "before swapping a is hello! and b is sarfaraz\n",
      "after swapping a is sarfaraz and b is hello!\n"
     ]
    }
   ],
   "source": [
    "try:\n",
    "    a = input()\n",
    "    b = input()\n",
    "    print(\"before swapping a is {} and b is {}\".format(a,b))\n",
    "    a,b = b,a\n",
    "    print(\"after swapping a is {} and b is {}\".format(a,b))\n",
    "except Exception as e:\n",
    "    print(e)"
   ]
  },
  {
   "cell_type": "code",
   "execution_count": null,
   "id": "75eeee1b",
   "metadata": {},
   "outputs": [],
   "source": []
  }
 ],
 "metadata": {
  "kernelspec": {
   "display_name": "Python 3",
   "language": "python",
   "name": "python3"
  },
  "language_info": {
   "codemirror_mode": {
    "name": "ipython",
    "version": 3
   },
   "file_extension": ".py",
   "mimetype": "text/x-python",
   "name": "python",
   "nbconvert_exporter": "python",
   "pygments_lexer": "ipython3",
   "version": "3.8.8"
  }
 },
 "nbformat": 4,
 "nbformat_minor": 5
}
