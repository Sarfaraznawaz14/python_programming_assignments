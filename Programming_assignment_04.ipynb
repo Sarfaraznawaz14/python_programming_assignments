{
 "cells": [
  {
   "cell_type": "markdown",
   "id": "67e89fa5",
   "metadata": {},
   "source": [
    "# 1.\tWrite a Python Program to Find the Factorial of a Number?"
   ]
  },
  {
   "cell_type": "code",
   "execution_count": 4,
   "id": "2bffd869",
   "metadata": {},
   "outputs": [
    {
     "name": "stdout",
     "output_type": "stream",
     "text": [
      "enter a number whose factorial to be calculated 5\n",
      "factorial of given number 5 is 120\n"
     ]
    }
   ],
   "source": [
    "num = int(input(\"enter a number whose factorial to be calculated \"))\n",
    "factorial = 1\n",
    "\n",
    "if num<0:\n",
    "    print(\"factorial cannot be calculated\")\n",
    "elif num == 0 :\n",
    "    print(\"factorial is 1\")\n",
    "else:\n",
    "    for i in range(1, num+1):\n",
    "        factorial = factorial*i\n",
    "print(\"factorial of given number\", num , \"is\", factorial)\n",
    "        \n"
   ]
  },
  {
   "cell_type": "markdown",
   "id": "bf691aa2",
   "metadata": {},
   "source": [
    "# 2.\tWrite a Python Program to Display the multiplication Table?"
   ]
  },
  {
   "cell_type": "code",
   "execution_count": 12,
   "id": "409baa1e",
   "metadata": {},
   "outputs": [
    {
     "name": "stdout",
     "output_type": "stream",
     "text": [
      "enter a number 15\n",
      "15 x 1 = 15\n",
      "15 x 2 = 30\n",
      "15 x 3 = 45\n",
      "15 x 4 = 60\n",
      "15 x 5 = 75\n",
      "15 x 6 = 90\n",
      "15 x 7 = 105\n",
      "15 x 8 = 120\n",
      "15 x 9 = 135\n",
      "15 x 10 = 150\n"
     ]
    }
   ],
   "source": [
    "num = int(input('enter a number '))\n",
    "mul = 1\n",
    "while num > 0:\n",
    "    multiplication = mul * num\n",
    "    \n",
    "    print(num ,\"x\", mul, '=', multiplication)\n",
    "    mul = mul+1\n",
    "    if mul == 11:\n",
    "        break"
   ]
  },
  {
   "cell_type": "markdown",
   "id": "cea1aa0b",
   "metadata": {},
   "source": [
    "# 3.\tWrite a Python Program to Print the Fibonacci sequence?"
   ]
  },
  {
   "cell_type": "code",
   "execution_count": 14,
   "id": "218edc3b",
   "metadata": {},
   "outputs": [
    {
     "name": "stdout",
     "output_type": "stream",
     "text": [
      "Enter the terms5\n",
      "0 1 1 2 3 "
     ]
    }
   ],
   "source": [
    "# Enter number of terms needed                   #0,1,1,2,3,5....\n",
    "a=int(input(\"Enter the terms\"))\n",
    "f=0                                         #first element of series\n",
    "s=1                                         #second element of series\n",
    "if a<=0:\n",
    "    print(\"The requested series is\",f)\n",
    "else:\n",
    "    print(f,s,end=\" \")\n",
    "    for x in range(2,a):\n",
    "        next=f+s                           \n",
    "        print(next,end=\" \")\n",
    "        f=s\n",
    "        s=next\n"
   ]
  },
  {
   "cell_type": "markdown",
   "id": "3e63cac4",
   "metadata": {},
   "source": [
    "# 4.\tWrite a Python Program to Check Armstrong Number?"
   ]
  },
  {
   "cell_type": "code",
   "execution_count": 26,
   "id": "f2914e79",
   "metadata": {},
   "outputs": [
    {
     "name": "stdout",
     "output_type": "stream",
     "text": [
      "Enter a number: 153\n",
      "153 is an Armstrong number\n"
     ]
    }
   ],
   "source": [
    "# Python program to check if the number is an Armstrong number or not\n",
    "\n",
    "# take input from the user\n",
    "num = int(input(\"Enter a number: \"))\n",
    "\n",
    "# initialize sum\n",
    "sum = 0\n",
    "\n",
    "# find the sum of the cube of each digit\n",
    "temp = num\n",
    "while temp > 0:\n",
    "    digit = temp % 10\n",
    "    sum += digit ** 3\n",
    "    temp //= 10\n",
    "\n",
    "# display the result\n",
    "if num == sum:\n",
    "    print(num,\"is an Armstrong number\")\n",
    "else:\n",
    "    print(num,\"is not an Armstrong number\")\n"
   ]
  },
  {
   "cell_type": "markdown",
   "id": "739a71c6",
   "metadata": {},
   "source": [
    "# 5.\tWrite a Python Program to Find Armstrong Number in an Interval?"
   ]
  },
  {
   "cell_type": "code",
   "execution_count": 37,
   "id": "928dbb33",
   "metadata": {},
   "outputs": [
    {
     "name": "stdout",
     "output_type": "stream",
     "text": [
      "input the lower bound of range100\n",
      "input the upper bound of range 1500\n",
      "153\n",
      "370\n",
      "371\n",
      "407\n"
     ]
    }
   ],
   "source": [
    "# Program to check Armstrong numbers in a certain interval\n",
    "\n",
    "lower = int(input(\"input the lower bound of range\"))\n",
    "upper = int(input(\"input the upper bound of range \"))\n",
    "\n",
    "for num in range(lower, upper + 1):\n",
    "    order = len(str(num))\n",
    "    sum = 0\n",
    "    temp = num\n",
    "    while temp > 0:\n",
    "        digit = temp % 10\n",
    "        sum += digit ** order\n",
    "        temp //= 10\n",
    "\n",
    "    if num == sum:\n",
    "        print(num)\n"
   ]
  },
  {
   "cell_type": "markdown",
   "id": "b94b094e",
   "metadata": {},
   "source": [
    "# 6.\tWrite a Python Program to Find the Sum of Natural Numbers?"
   ]
  },
  {
   "cell_type": "code",
   "execution_count": 35,
   "id": "f3dedd69",
   "metadata": {},
   "outputs": [],
   "source": [
    "def natural_num(num):\n",
    "    try:\n",
    "        if num<=0:\n",
    "            print(\"the entered number is not a natural number\")\n",
    "            print(\"please enter again\")\n",
    "            natural_num\n",
    "        else:\n",
    "            sum = 0\n",
    "            for i in range(1,num+1):\n",
    "                sum = sum+i\n",
    "            print(\"sum of natural number between 1 to \", num , \"is\", sum)\n",
    "    except Exception as e:\n",
    "        print(e)\n",
    "                "
   ]
  },
  {
   "cell_type": "code",
   "execution_count": 36,
   "id": "11c15b8d",
   "metadata": {},
   "outputs": [
    {
     "name": "stdout",
     "output_type": "stream",
     "text": [
      "sum of natural number between 1 to  50 is 1275\n"
     ]
    }
   ],
   "source": [
    "natural_num(50)"
   ]
  },
  {
   "cell_type": "code",
   "execution_count": null,
   "id": "d3126b11",
   "metadata": {},
   "outputs": [],
   "source": []
  }
 ],
 "metadata": {
  "kernelspec": {
   "display_name": "Python 3",
   "language": "python",
   "name": "python3"
  },
  "language_info": {
   "codemirror_mode": {
    "name": "ipython",
    "version": 3
   },
   "file_extension": ".py",
   "mimetype": "text/x-python",
   "name": "python",
   "nbconvert_exporter": "python",
   "pygments_lexer": "ipython3",
   "version": "3.8.8"
  }
 },
 "nbformat": 4,
 "nbformat_minor": 5
}
